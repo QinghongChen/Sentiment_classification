{
 "cells": [
  {
   "cell_type": "code",
   "execution_count": 180,
   "metadata": {},
   "outputs": [],
   "source": [
    "import jieba"
   ]
  },
  {
   "cell_type": "code",
   "execution_count": 181,
   "metadata": {},
   "outputs": [],
   "source": [
    "def readLines(path):\n",
    "    result = []\n",
    "    file = open(path,'r', encoding='UTF-8')\n",
    "    lines = file.readlines()\n",
    "    \n",
    "    temp = 0\n",
    "    for line in lines:\n",
    "        temp += 1\n",
    "        if(temp<len(lines)):\n",
    "            result.append(line[:-1])\n",
    "    return result"
   ]
  },
  {
   "cell_type": "code",
   "execution_count": 182,
   "metadata": {},
   "outputs": [],
   "source": [
    "# 分词，去除停用词\n",
    "def sen2word(sentence):\n",
    "    segList = jieba.cut(sentence)\n",
    "    preSegResult = []\n",
    "    for seg in segList:\n",
    "        preSegResult.append(seg)\n",
    "\n",
    "    stopwords = readLines('./dict/哈工大停用词表扩展.txt')\n",
    "    \n",
    "    segResult = []\n",
    "    for seg in preSegResult:\n",
    "        if seg in stopwords:\n",
    "            continue\n",
    "        else:\n",
    "            segResult.append(seg)\n",
    "      \n",
    "    return segResult\n",
    "    "
   ]
  },
  {
   "cell_type": "code",
   "execution_count": 214,
   "metadata": {},
   "outputs": [
    {
     "data": {
      "text/plain": [
       "['你好', '很', '好', '有点', '小', '感冒']"
      ]
     },
     "execution_count": 214,
     "metadata": {},
     "output_type": "execute_result"
    }
   ],
   "source": [
    "sen2word('你好吗，我很好，只是有点小感冒')\n",
    "# Input: '你好吗，我很好，只是有点小感冒'\n",
    "# preSegResult: ['你好', '吗', '，', '我', '很', '好', '，', '只是', '有点', '小', '感冒']\n",
    "# segResult:['你好', '很', '好', '有点', '小', '感冒']"
   ]
  },
  {
   "cell_type": "code",
   "execution_count": 235,
   "metadata": {},
   "outputs": [],
   "source": [
    "# 将词语分类并记录其位置\n",
    "def classifyWords():\n",
    "    # 情感词\n",
    "    senList = readLines('./dict/BosonNLP_sentiment_score.txt')\n",
    "    senDict = {}\n",
    "    for s in senList:\n",
    "        senDict[s.split(' ')[0]] = s.split(' ')[1]\n",
    "    # 否定词 \n",
    "    notList= readLines('./dict/否定词典/否定.txt')\n",
    "    # 程度副词\n",
    "    degreeList = readLines('./dict/知网Hownet情感词典/程度级别词语（中文）.txt')\n",
    "    degreeDict = {}\n",
    "    for d in degreeList:\n",
    "        degreeDict[d.split(',')[0]] = d.split(',')[1]                      \n",
    "    "
   ]
  },
  {
   "cell_type": "code",
   "execution_count": 236,
   "metadata": {},
   "outputs": [
    {
     "name": "stdout",
     "output_type": "stream",
     "text": [
      "1.5\n"
     ]
    }
   ],
   "source": [
    "classifyWords()"
   ]
  },
  {
   "cell_type": "code",
   "execution_count": null,
   "metadata": {},
   "outputs": [],
   "source": []
  },
  {
   "cell_type": "code",
   "execution_count": null,
   "metadata": {},
   "outputs": [],
   "source": []
  }
 ],
 "metadata": {
  "kernelspec": {
   "display_name": "Python 3",
   "language": "python",
   "name": "python3"
  },
  "language_info": {
   "codemirror_mode": {
    "name": "ipython",
    "version": 3
   },
   "file_extension": ".py",
   "mimetype": "text/x-python",
   "name": "python",
   "nbconvert_exporter": "python",
   "pygments_lexer": "ipython3",
   "version": "3.7.0"
  }
 },
 "nbformat": 4,
 "nbformat_minor": 2
}
