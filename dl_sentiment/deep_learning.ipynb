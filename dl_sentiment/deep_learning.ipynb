{
 "cells": [
  {
   "cell_type": "code",
   "execution_count": null,
   "metadata": {},
   "outputs": [],
   "source": [
    "import numpy as np\n",
    "import tensorflow as tf\n",
    "\n",
    "with open('./data/reviews.txt', 'r') as f:\n",
    "    reviews = f.read()\n",
    "with open('./data/labels.txt', 'r') as f:\n",
    "    labels = f.read()\n",
    "\n",
    "from string import punctuation\n",
    "#移除所有标点符号\n",
    "all_text = ''.join([c for c in reviews if c not in punctuation])\n",
    "print(all_text[:1000])\n",
    "# 以'\\n'为分隔符，拆分文本\n",
    "reviews = all_text.split('\\n')\n",
    "\n",
    "all_text = ' '.join(reviews)\n",
    "# 文本拆分为单独的单词列表\n",
    "words = all_text.split()"
   ]
  },
  {
   "cell_type": "code",
   "execution_count": null,
   "metadata": {},
   "outputs": [],
   "source": [
    "from collections import Counter\n",
    "count = Counter(words)\n",
    "\n",
    "#按技术进行排序\n",
    "vocab = sorted(count,key=count.get,reverse=True)\n",
    "# 生成字典：{单词：整数}\n",
    "\n",
    "vocab_to_int = {word:i for i,word in enumerate(vocab,1)}\n",
    "# 将文本列表 转换为 整数列表same shape ==reviews list\n",
    "reviews_ints = []\n",
    "for each in reviews:\n",
    "    reviews_ints.append([vocab_to_int[word] for word in each.split()])"
   ]
  },
  {
   "cell_type": "code",
   "execution_count": null,
   "metadata": {},
   "outputs": [],
   "source": [
    "# 将标签转换为数值：positive==1 和 negative ==0\n",
    "labels = labels.split('\\n')\n",
    "labels = np.array([1 if each=='positive' else 0 for each in labels])"
   ]
  },
  {
   "cell_type": "code",
   "execution_count": null,
   "metadata": {},
   "outputs": [],
   "source": [
    "from collections import Counter\n",
    "review_lens = Counter([len(x) for x in reviews_ints])\n",
    "print(\"Zero-length reviews: {}\".format(review_lens[0]))\n",
    "print(\"Maximum review length: {}\".format(max(review_lens)))"
   ]
  },
  {
   "cell_type": "code",
   "execution_count": null,
   "metadata": {},
   "outputs": [],
   "source": [
    "# 从  reviews_ints列表中移除0长度的评论\n",
    "non_zero_idx = [i for i,review in enumerate(reviews_ints) if len(review)>0]\n",
    "#len(non_zero_idx)\n",
    "#为了防止出现bug,此处用了in的判断来去除空值,当然还有别的方法可以用,此处不讨论。\n",
    "reviews_ints = [reviews_ints[i] for i in non_zero_idx]\n",
    "labels = [labels[i] for i in non_zero_idx]\n",
    "\n",
    "#选择每个句子长为200\n",
    "seq_len = 200\n",
    "from tensorflow.contrib.keras import preprocessing\n",
    "features = np.zeros((len(reviews_ints),seq_len),dtype=int)\n",
    "#将reviews_ints值逐行 赋值给features\n",
    "features = preprocessing.sequence.pad_sequences(reviews_ints,200)\n",
    "features.shape"
   ]
  },
  {
   "cell_type": "code",
   "execution_count": null,
   "metadata": {},
   "outputs": [],
   "source": [
    "from sklearn.model_selection import ShuffleSplit\n",
    "ss = ShuffleSplit(n_splits=1,test_size=0.2,random_state=0)\n",
    "for train_index,test_index in ss.split(np.array(reviews_ints)):\n",
    "    train_x = features[train_index]\n",
    "    train_y = labels[train_index]\n",
    "    test_x = features[test_index]\n",
    "    test_y = labels[test_index]\n",
    "\n",
    "print(\"\\t\\t\\tFeature Shapes:\")\n",
    "print(\"Train set: \\t\\t{}\".format(train_x.shape), \n",
    "      \"\\nTrain_Y set: \\t{}\".format(train_y.shape),\n",
    "      \"\\nTest set: \\t\\t{}\".format(test_x.shape))"
   ]
  },
  {
   "cell_type": "code",
   "execution_count": null,
   "metadata": {},
   "outputs": [],
   "source": [
    "lstm_size = 256\n",
    "lstm_layers = 1\n",
    "batch_size = 128\n",
    "learning_rate = 0.001"
   ]
  },
  {
   "cell_type": "code",
   "execution_count": null,
   "metadata": {},
   "outputs": [],
   "source": [
    "n_words = len(vocab_to_int)\n",
    "\n",
    "tf.reset_default_graph()\n",
    "X = tf.placeholder(tf.int32,[None,200],name='inputs')\n",
    "labels_ = tf.placeholder(tf.int32,[None,1],name='labels')\n",
    "keep_prob = tf.placeholder(tf.float32,name='keep_prob')"
   ]
  },
  {
   "cell_type": "code",
   "execution_count": null,
   "metadata": {},
   "outputs": [],
   "source": [
    "#创建基础的LSTM cell\n",
    "lstm = tf.contrib.rnn.BasicLSTMCell(lstm_size)\n",
    "\n",
    "#对cell添加dropout\n",
    "drop = tf.contrib.rnn.DropoutWrapper(lstm,output_keep_prob=keep_prob)\n",
    "\n",
    "#堆栈多个LSTM layers\n",
    "cell = tf.contrib.rnn.MultiRNNCell([drop]*lstm_layers)\n",
    "\n",
    "## 将所有cell初始化为0状态。\n",
    "initial_state = cell.zero_state(batch_size,tf.float32)"
   ]
  },
  {
   "cell_type": "code",
   "execution_count": null,
   "metadata": {},
   "outputs": [],
   "source": [
    "max_pool = tf.reduce_max(outputs,reduction_indices=[1])\n",
    "predictions = tf.contrib.layers.fully_connected(max_pool, 1, activation_fn=tf.sigmoid)\n",
    "with tf.name_scope('cost'):\n",
    "    cost = tf.losses.mean_squared_error(labels_, predictions)\n",
    "tf.summary.scalar('cost',cost)\n",
    "optimizer = tf.train.AdamOptimizer(learning_rate).minimize(cost)"
   ]
  },
  {
   "cell_type": "code",
   "execution_count": null,
   "metadata": {},
   "outputs": [],
   "source": [
    "with tf.name_scope('accuracy'):\n",
    "    accuracy = tf.reduce_mean(tf.cast(tf.equal(tf.cast(tf.round(predictions), tf.int32), labels_), tf.float32))\n",
    "tf.summary.scalar('accuracy',accuracy)"
   ]
  },
  {
   "cell_type": "code",
   "execution_count": null,
   "metadata": {},
   "outputs": [],
   "source": [
    "def get_batches(x, y, batch_size=100):\n",
    "    n_batches = len(x)//batch_size\n",
    "    x, y = x[:n_batches*batch_size], y[:n_batches*batch_size]\n",
    "    for ii in range(0, len(x), batch_size):\n",
    "        yield x[ii:ii+batch_size], y[ii:ii+batch_size]\n",
    "\n",
    "merged = tf.summary.merge_all()\n",
    "direc = 'C:\\\\Users\\\\1\\\\Desktop\\\\summary'\n",
    "train_writer = tf.summary.FileWriter(direc+'\\\\train',graph)\n",
    "test_writer = tf.summary.FileWriter(direc+'\\\\test',graph)"
   ]
  },
  {
   "cell_type": "code",
   "execution_count": null,
   "metadata": {},
   "outputs": [],
   "source": [
    "epochs = 6\n",
    "saver = tf.train.Saver()\n",
    "\n",
    "with tf.Session() as sess:\n",
    "    sess.run(tf.global_variables_initializer())\n",
    "    iteration = 1\n",
    "    for e in range(epochs):\n",
    "        \n",
    "        for ii, (x, y) in enumerate(get_batches(train_x, train_y, batch_size), 1):\n",
    "            feed = {X: x,\n",
    "                    labels_: y[:,None],\n",
    "                    keep_prob:0.6}\n",
    "            loss, _, summary1 = sess.run([cost, optimizer, merged], feed_dict=feed)\n",
    "            \n",
    "            if iteration%5==0:\n",
    "                train_writer.add_summary(summary1,iteration)\n",
    "                print(\"Epoch: {}/{}\".format(e+1, epochs),\n",
    "                      \"Iteration: {}\".format(iteration),\n",
    "                      \"Train loss: {:.3f}\".format(loss))\n",
    "\n",
    "            if iteration%25==0:\n",
    "                val_acc = []\n",
    "                for x, y in get_batches(test_x, test_y, batch_size):\n",
    "                    feed = {X: x,\n",
    "                            labels_: y[:,None],\n",
    "                            keep_prob:1.0}\n",
    "                    batch_acc, summary2 = sess.run([accuracy, merged], feed_dict=feed)\n",
    "                    val_acc.append(batch_acc)\n",
    "                test_writer.add_summary(summary2,iteration)\n",
    "                print(\"Val acc: {:.3f}\".format(np.mean(val_acc)))\n",
    "            iteration +=1\n",
    "    saver.save(sess, \"checkpoints/sentiment.ckpt\")"
   ]
  }
 ],
 "metadata": {
  "kernelspec": {
   "display_name": "Python 3",
   "language": "python",
   "name": "python3"
  },
  "language_info": {
   "codemirror_mode": {
    "name": "ipython",
    "version": 3
   },
   "file_extension": ".py",
   "mimetype": "text/x-python",
   "name": "python",
   "nbconvert_exporter": "python",
   "pygments_lexer": "ipython3",
   "version": "3.7.3"
  }
 },
 "nbformat": 4,
 "nbformat_minor": 2
}
